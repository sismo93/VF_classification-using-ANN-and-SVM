{
 "cells": [
  {
   "cell_type": "code",
   "execution_count": 19,
   "metadata": {
    "tags": []
   },
   "outputs": [],
   "source": [
    "import pandas as pd\n",
    "#from utils import downloadData,extract_file,to_dataframe,supprimer_lignes_na,plot_roc_curve\n",
    "from ml_algorithms import SVM_Grid_search\n",
    "from ml_tool import assess_NA,smooth,feature_importance\n",
    "from sklearn.svm import SVC\n",
    "from sklearn.metrics import confusion_matrix\n",
    "from sklearn.metrics import classification_report\n",
    "\n",
    "from sklearn.metrics import accuracy_score, precision_score, recall_score\n",
    "from sklearn.model_selection import cross_val_score,StratifiedKFold\n",
    "\n",
    "from sklearn.svm import SVC\n",
    "\n",
    "import numpy as np\n",
    "from sklearn.model_selection import GridSearchCV, KFold\n",
    "from keras.models import Sequential\n",
    "from keras.layers import Dense\n",
    "from keras.wrappers.scikit_learn import KerasClassifier\n",
    "from keras.optimizers import Adam\n",
    "from sklearn.preprocessing import StandardScaler\n",
    "import matplotlib.pyplot as plt\n",
    "from sklearn.model_selection import train_test_split, learning_curve\n",
    "from sklearn.metrics import classification_report, confusion_matrix,precision_recall_curve, RocCurveDisplay\n",
    "\n",
    "from sklearn.preprocessing import StandardScaler\n",
    "from keras.wrappers.scikit_learn import KerasClassifier\n",
    "from sklearn.model_selection import GridSearchCV, KFold\n",
    "\n",
    "\n",
    "\n",
    "\n",
    "\n",
    "\n",
    "import numpy as np\n",
    "import matplotlib.pyplot as plt\n",
    "import seaborn as sns\n",
    "from sklearn.model_selection import train_test_split\n",
    "from sklearn.svm import SVC\n",
    "from sklearn.metrics import confusion_matrix, classification_report\n",
    "from sklearn.model_selection import learning_curve\n",
    "\n",
    "\n",
    "\n",
    "import numpy as np\n",
    "import matplotlib.pyplot as plt\n",
    "import seaborn as sns\n",
    "from sklearn.model_selection import train_test_split\n",
    "from sklearn.svm import SVC\n",
    "from sklearn.metrics import confusion_matrix, classification_report\n",
    "from sklearn.model_selection import learning_curve\n",
    "\n",
    "from sklearn.metrics import classification_report, confusion_matrix, roc_curve, auc\n",
    "import matplotlib.pyplot as plt\n",
    "import seaborn as sns\n",
    "import os\n"
   ]
  },
  {
   "cell_type": "markdown",
   "metadata": {},
   "source": [
    "# Load Preprocesed file in Dataframe"
   ]
  },
  {
   "cell_type": "code",
   "execution_count": 6,
   "metadata": {
    "tags": []
   },
   "outputs": [],
   "source": [
    "df2 = pd.read_excel(\"final.xlsx\")"
   ]
  },
  {
   "cell_type": "code",
   "execution_count": 7,
   "metadata": {
    "tags": []
   },
   "outputs": [],
   "source": [
    "df=df2"
   ]
  },
  {
   "cell_type": "markdown",
   "metadata": {
    "id": "jpWVV-BMgSX-"
   },
   "source": [
    "# Data Statitic "
   ]
  },
  {
   "cell_type": "code",
   "execution_count": 4,
   "metadata": {
    "id": "VkaFLGOJgSX-",
    "tags": []
   },
   "outputs": [
    {
     "name": "stdout",
     "output_type": "stream",
     "text": [
      "<class 'pandas.core.frame.DataFrame'>\n",
      "RangeIndex: 95228 entries, 0 to 95227\n",
      "Data columns (total 28 columns):\n",
      " #   Column        Non-Null Count  Dtype  \n",
      "---  ------        --------------  -----  \n",
      " 0   Unnamed: 0.2  95228 non-null  int64  \n",
      " 1   Unnamed: 0.1  95228 non-null  int64  \n",
      " 2   Unnamed: 0    95228 non-null  int64  \n",
      " 3   label         95228 non-null  object \n",
      " 4   signal        95228 non-null  object \n",
      " 5   channel       95228 non-null  object \n",
      " 6   db            95228 non-null  object \n",
      " 7   fs            95228 non-null  int64  \n",
      " 8   RDAmpM        95228 non-null  float64\n",
      " 9   RDAmpSD       95228 non-null  float64\n",
      " 10  QRsa          95228 non-null  float64\n",
      " 11  QRaSD         95228 non-null  float64\n",
      " 12  S             95228 non-null  object \n",
      " 13  Q             95228 non-null  object \n",
      " 14  R             95228 non-null  object \n",
      " 15  mean_rr       95228 non-null  float64\n",
      " 16  sdsd          95228 non-null  float64\n",
      " 17  pnn50         95228 non-null  float64\n",
      " 18  rmssd         95228 non-null  float64\n",
      " 19  sdnn          95228 non-null  float64\n",
      " 20  lf_power      95228 non-null  int64  \n",
      " 21  hf_power      95228 non-null  float64\n",
      " 22  pos_area      95228 non-null  float64\n",
      " 23  neg_area      95228 non-null  float64\n",
      " 24  vlf_power     95228 non-null  int64  \n",
      " 25  ulf_power     95228 non-null  int64  \n",
      " 26  lfnu          95228 non-null  int64  \n",
      " 27  hfnu          95228 non-null  float64\n",
      "dtypes: float64(13), int64(8), object(7)\n",
      "memory usage: 20.3+ MB\n"
     ]
    }
   ],
   "source": [
    "df.info()\n"
   ]
  },
  {
   "cell_type": "code",
   "execution_count": 5,
   "metadata": {
    "id": "U4fdXrmIgSX-",
    "tags": []
   },
   "outputs": [
    {
     "name": "stdout",
     "output_type": "stream",
     "text": [
      "Empty DataFrame\n",
      "Columns: [Number of NA, Percent NA]\n",
      "Index: []\n"
     ]
    }
   ],
   "source": [
    "df_stat=assess_NA(df)\n",
    "print(df_stat)"
   ]
  },
  {
   "cell_type": "code",
   "execution_count": 16,
   "metadata": {
    "id": "xMBztTUKgSX-",
    "tags": []
   },
   "outputs": [
    {
     "name": "stdout",
     "output_type": "stream",
     "text": [
      "Unnamed: 0.2    88487\n",
      "Unnamed: 0.1    88487\n",
      "Unnamed: 0      88487\n",
      "label           88487\n",
      "signal          88487\n",
      "channel         88487\n",
      "db              88487\n",
      "fs              88487\n",
      "RDAmpM          88487\n",
      "RDAmpSD         88487\n",
      "QRsa            88487\n",
      "QRaSD           88487\n",
      "S               88487\n",
      "Q               88487\n",
      "R               88487\n",
      "mean_rr         88487\n",
      "sdsd            88487\n",
      "pnn50           88487\n",
      "rmssd           88487\n",
      "sdnn            88487\n",
      "lf_power        88487\n",
      "hf_power        88487\n",
      "pos_area        88487\n",
      "neg_area        88487\n",
      "vlf_power       88487\n",
      "ulf_power       88487\n",
      "lfnu            88487\n",
      "hfnu            88487\n",
      "dtype: int64\n"
     ]
    }
   ],
   "source": [
    "print(df[df[\"label\"] == \"NotVF\"].count())"
   ]
  },
  {
   "cell_type": "code",
   "execution_count": 17,
   "metadata": {
    "id": "yZudlPOMgSX_",
    "tags": []
   },
   "outputs": [
    {
     "name": "stdout",
     "output_type": "stream",
     "text": [
      "Unnamed: 0.2    6741\n",
      "Unnamed: 0.1    6741\n",
      "Unnamed: 0      6741\n",
      "label           6741\n",
      "signal          6741\n",
      "channel         6741\n",
      "db              6741\n",
      "fs              6741\n",
      "RDAmpM          6741\n",
      "RDAmpSD         6741\n",
      "QRsa            6741\n",
      "QRaSD           6741\n",
      "S               6741\n",
      "Q               6741\n",
      "R               6741\n",
      "mean_rr         6741\n",
      "sdsd            6741\n",
      "pnn50           6741\n",
      "rmssd           6741\n",
      "sdnn            6741\n",
      "lf_power        6741\n",
      "hf_power        6741\n",
      "pos_area        6741\n",
      "neg_area        6741\n",
      "vlf_power       6741\n",
      "ulf_power       6741\n",
      "lfnu            6741\n",
      "hfnu            6741\n",
      "dtype: int64\n"
     ]
    }
   ],
   "source": [
    "print(df[df[\"label\"] == \"VF\"].count())"
   ]
  },
  {
   "cell_type": "code",
   "execution_count": 21,
   "metadata": {
    "tags": []
   },
   "outputs": [],
   "source": [
    "from sklearn.metrics import precision_score, recall_score, confusion_matrix\n",
    "from sklearn.metrics import RocCurveDisplay, auc\n",
    "\n",
    "def plot_roc_curve(X, y, n_splits, gamma, C, output_path):\n",
    "    cv = StratifiedKFold(n_splits=n_splits)\n",
    "    clf = SVC(kernel='rbf', gamma=gamma, C=C, probability=True)\n",
    "\n",
    "    tprs = []\n",
    "    aucs = []\n",
    "    mean_fpr = np.linspace(0, 1, 100)\n",
    "\n",
    "    accuracies = []\n",
    "    precisions = []\n",
    "    recalls = []\n",
    "    specificities = []\n",
    "\n",
    "    fig, axs = plt.subplots(2, 1, figsize=(10, 12))\n",
    "    for fold, (train, test) in enumerate(cv.split(X, y)):\n",
    "        clf.fit(X[train], y[train])\n",
    "        viz = RocCurveDisplay.from_estimator(\n",
    "            clf,\n",
    "            X[test],\n",
    "            y[test],\n",
    "            name=f\"ROC fold {fold+1}\",\n",
    "            alpha=0.3,\n",
    "            lw=1,\n",
    "            ax=axs[0],\n",
    "        )\n",
    "        interp_tpr = np.interp(mean_fpr, viz.fpr, viz.tpr)\n",
    "        interp_tpr[0] = 0.0\n",
    "        tprs.append(interp_tpr)\n",
    "        aucs.append(viz.roc_auc)\n",
    "\n",
    "        # Calculate metrics per fold\n",
    "        y_pred = clf.predict(X[test])\n",
    "        accuracy = accuracy_score(y[test], y_pred)\n",
    "        precision = precision_score(y[test], y_pred,pos_label='VF')\n",
    "        recall = recall_score(y[test], y_pred)\n",
    "        tn, fp, fn, tp = confusion_matrix(y[test], y_pred).ravel()\n",
    "        specificity = tn / (tn+fp)\n",
    "\n",
    "        accuracies.append(accuracy)\n",
    "        precisions.append(precision)\n",
    "        recalls.append(recall)\n",
    "        specificities.append(specificity)\n",
    "\n",
    "    # ROC plot\n",
    "    axs[0].plot([0, 1], [0, 1], \"k--\", label=\"Chance level (AUC = 0.5)\")\n",
    "    mean_tpr = np.mean(tprs, axis=0)\n",
    "    mean_tpr[-1] = 1.0\n",
    "    mean_auc = auc(mean_fpr, mean_tpr)\n",
    "    std_auc = np.std(aucs)\n",
    "    axs[0].plot(\n",
    "        mean_fpr,\n",
    "        mean_tpr,\n",
    "        color=\"b\",\n",
    "        label=r\"Mean ROC (AUC = %0.2f $\\pm$ %0.2f)\" % (mean_auc, std_auc),\n",
    "        lw=2,\n",
    "        alpha=0.8,\n",
    "    )\n",
    "    axs[0].set(\n",
    "        xlim=[-0.05, 1.05],\n",
    "        ylim=[-0.05, 1.05],\n",
    "        xlabel=\"False Positive Rate\",\n",
    "        ylabel=\"True Positive Rate\",\n",
    "        title=f\"Mean ROC curve with variability\",\n",
    "    )\n",
    "    axs[0].legend(loc=\"lower right\")\n",
    "\n",
    "    # Bar plots\n",
    "    metrics = {'Accuracy': accuracies, 'Precision': precisions, 'Recall': recalls, 'Specificity': specificities}\n",
    "    for i, (metric_name, metric_values) in enumerate(metrics.items()):\n",
    "        axs[1].bar([f'Fold {fold+1}' for fold in range(n_splits)], metric_values, label=metric_name)\n",
    "        axs[1].axhline(np.mean(metric_values), color=f'C{i}', linestyle='--')\n",
    "\n",
    "    axs[1].set_xlabel('Fold')\n",
    "    axs[1].set_ylabel('Score')\n",
    "    axs[1].set_title('Model Performance Metrics for Each Fold')\n",
    "    axs[1].legend()\n",
    "\n",
    "    plt.tight_layout()\n",
    "    plt.savefig(f\"{output_path}/cv={gamma}_C={C}_metrics.png\")\n",
    "    plt.show()"
   ]
  },
  {
   "cell_type": "markdown",
   "metadata": {},
   "source": [
    "# SVM shape "
   ]
  },
  {
   "cell_type": "code",
   "execution_count": null,
   "metadata": {},
   "outputs": [
    {
     "name": "stdout",
     "output_type": "stream",
     "text": [
      "Counter({'NotVF': 88487, 'VF': 6741})\n",
      "Counter({'NotVF': 88487, 'VF': 88487})\n"
     ]
    }
   ],
   "source": [
    "X1=df[['RDAmpM','RDAmpSD', 'QRsa', 'QRaSD']]\n",
    "y1=df[\"label\"]\n",
    "X,y=smooth(X1,y1)\n",
    "\n",
    "X_cv = X.to_numpy()\n",
    "y_cv=y.ravel()\n",
    "\n",
    "gamma=10\n",
    "C=10\n",
    "#SVM_Grid_search(gamma,C,X,y,\"./final/shape\")\n",
    "\n",
    "plot_roc_curve(X_cv, y_cv,2,gamma,C,\"./final/shape\")"
   ]
  },
  {
   "cell_type": "markdown",
   "metadata": {},
   "source": [
    "# SVM all shape"
   ]
  },
  {
   "cell_type": "code",
   "execution_count": null,
   "metadata": {},
   "outputs": [],
   "source": [
    "# define dataset\n",
    "X1=df[['RDAmpM','RDAmpSD', 'QRsa', 'QRaSD','pos_area','neg_area']]\n",
    "y1=df[\"label\"]\n",
    "X,y=smooth(X1,y1)\n",
    "\n",
    "X_cv = X.to_numpy()\n",
    "y_cv=y.ravel()\n",
    "\n",
    "gamma=[10]\n",
    "C=[10]\n",
    "SVM_Grid_search(gamma,C,X,y,\"./final/all_shape\")\n",
    "\n",
    "plot_roc_curve(X_cv, y_cv,10,gamma,C,\"./final/all_shape\")\n"
   ]
  },
  {
   "cell_type": "markdown",
   "metadata": {},
   "source": [
    "# SVM hrv"
   ]
  },
  {
   "cell_type": "code",
   "execution_count": 6,
   "metadata": {
    "tags": []
   },
   "outputs": [
    {
     "name": "stdout",
     "output_type": "stream",
     "text": [
      "Counter({'NotVF': 88487, 'VF': 6741})\n",
      "Counter({'NotVF': 88487, 'VF': 88487})\n"
     ]
    }
   ],
   "source": [
    "# define dataset\n",
    "X1=df[['mean_rr', 'sdsd', 'pnn50','rmssd', 'sdnn','hfnu']]\n",
    "y1=df[\"label\"]\n",
    "X,y=smooth(X1,y1)\n",
    "\n",
    "X_cv = X.to_numpy()\n",
    "y_cv=y.ravel()\n",
    "\n",
    "gamma=[0.1]\n",
    "C=[10]\n",
    "SVM_Grid_search(gamma,C,X,y,\"./final/hrv\")\n",
    "\n",
    "plot_roc_curve(X_cv, y_cv,1,gamma,C,\"./final/hrv\")\n",
    "\n"
   ]
  },
  {
   "cell_type": "code",
   "execution_count": null,
   "metadata": {
    "tags": []
   },
   "outputs": [],
   "source": [
    "gamma=[0.1]\n",
    "C=[10]\n",
    "SVM_Grid_search(gamma,C,X,y,\"./final\")\n",
    "\n",
    "plot_roc_curve(X_cv,y_cv,10,gamma,C,\"./final\")"
   ]
  }
 ],
 "metadata": {
  "colab": {
   "provenance": []
  },
  "interpreter": {
   "hash": "fb9564f215b4a5b59b1e35e1630d87ebbc66452672341229fd959e670800eda6"
  },
  "kernelspec": {
   "display_name": "Python 3 (ipykernel)",
   "language": "python",
   "name": "python3"
  },
  "language_info": {
   "codemirror_mode": {
    "name": "ipython",
    "version": 3
   },
   "file_extension": ".py",
   "mimetype": "text/x-python",
   "name": "python",
   "nbconvert_exporter": "python",
   "pygments_lexer": "ipython3",
   "version": "3.10.10"
  }
 },
 "nbformat": 4,
 "nbformat_minor": 4
}
