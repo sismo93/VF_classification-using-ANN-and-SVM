{
  "cells": [
    {
      "cell_type": "code",
      "execution_count": 1,
      "metadata": {},
      "outputs": [],
      "source": [
        "import pandas as pd"
      ]
    },
    {
      "cell_type": "code",
      "execution_count": 3,
      "metadata": {},
      "outputs": [
        {
          "name": "stderr",
          "output_type": "stream",
          "text": [
            "2023-04-18 15:46:21.575165: I tensorflow/tsl/cuda/cudart_stub.cc:28] Could not find cuda drivers on your machine, GPU will not be used.\n",
            "2023-04-18 15:46:21.660740: I tensorflow/tsl/cuda/cudart_stub.cc:28] Could not find cuda drivers on your machine, GPU will not be used.\n",
            "2023-04-18 15:46:21.661720: I tensorflow/core/platform/cpu_feature_guard.cc:182] This TensorFlow binary is optimized to use available CPU instructions in performance-critical operations.\n",
            "To enable the following instructions: AVX2 FMA, in other operations, rebuild TensorFlow with the appropriate compiler flags.\n",
            "2023-04-18 15:46:23.060095: W tensorflow/compiler/tf2tensorrt/utils/py_utils.cc:38] TF-TRT Warning: Could not find TensorRT\n"
          ]
        }
      ],
      "source": [
        "from utils import downloadData,extract_file,to_dataframe\n",
        "from ml_tool import assess_NA,smooth,feature_importance\n",
        "from ml_algorithms import SVM_Grid_search,SVM_Cross_val,ANN_grid_search"
      ]
    },
    {
      "attachments": {},
      "cell_type": "markdown",
      "metadata": {
        "id": "iXKtCBCTgSX2"
      },
      "source": [
        "# Preprocesing on VFDB"
      ]
    },
    {
      "cell_type": "code",
      "execution_count": null,
      "metadata": {
        "id": "e9Y0y5NHgSX4",
        "outputId": "489cf171-17cb-42c9-eab2-a01ef6b1122a"
      },
      "outputs": [],
      "source": [
        "\n",
        "file_name_vfdb=extract_file(\"vfdb database\",\"database//vfdb\")\n",
        "\n"
      ]
    },
    {
      "cell_type": "code",
      "execution_count": 2,
      "metadata": {},
      "outputs": [
        {
          "ename": "NameError",
          "evalue": "name 'to_dataframe' is not defined",
          "output_type": "error",
          "traceback": [
            "\u001b[0;31m---------------------------------------------------------------------------\u001b[0m",
            "\u001b[0;31mNameError\u001b[0m                                 Traceback (most recent call last)",
            "Cell \u001b[0;32mIn[2], line 1\u001b[0m\n\u001b[0;32m----> 1\u001b[0m df_c1\u001b[39m=\u001b[39mto_dataframe(\u001b[39m8\u001b[39m,\u001b[39m\"\u001b[39m\u001b[39mvfdb\u001b[39m\u001b[39m\"\u001b[39m,file_name_vfdb,\u001b[39m1\u001b[39m)\n\u001b[1;32m      2\u001b[0m df_c1\u001b[39m.\u001b[39mto_excel(\u001b[39m\"\u001b[39m\u001b[39mvfdb_c1N.xlsx\u001b[39m\u001b[39m\"\u001b[39m)\n",
            "\u001b[0;31mNameError\u001b[0m: name 'to_dataframe' is not defined"
          ]
        }
      ],
      "source": [
        "df_c1=to_dataframe(8,\"vfdb\",file_name_vfdb,1)\n",
        "df_c1.to_excel(\"vfdb_c1N.xlsx\")"
      ]
    },
    {
      "cell_type": "code",
      "execution_count": null,
      "metadata": {},
      "outputs": [],
      "source": [
        "df_c2=to_dataframe(8,\"vfdb\",file_name_vfdb,2)\n",
        "df_c2.to_excel(\"vfdb_c2N.xlsx\")"
      ]
    },
    {
      "cell_type": "code",
      "execution_count": 3,
      "metadata": {},
      "outputs": [],
      "source": [
        "df_c1 = pd.read_excel(\"vfdb_c1N.xlsx\")"
      ]
    },
    {
      "cell_type": "code",
      "execution_count": 4,
      "metadata": {},
      "outputs": [],
      "source": [
        "df_c2 = pd.read_excel(\"vfdb_c2N.xlsx\")\n",
        "\n",
        "df = pd.concat([df_c1, df_c2], axis=0)\n"
      ]
    },
    {
      "cell_type": "code",
      "execution_count": 5,
      "metadata": {},
      "outputs": [],
      "source": [
        "df_c3 = pd.read_excel(\"cudb_cc1N.xlsx\")"
      ]
    },
    {
      "cell_type": "code",
      "execution_count": 6,
      "metadata": {},
      "outputs": [],
      "source": [
        "df = pd.concat([df, df_c3], axis=0)"
      ]
    },
    {
      "cell_type": "code",
      "execution_count": null,
      "metadata": {},
      "outputs": [],
      "source": [
        "df_c1.columns"
      ]
    },
    {
      "cell_type": "code",
      "execution_count": null,
      "metadata": {},
      "outputs": [],
      "source": [
        "df_c2.columns"
      ]
    },
    {
      "cell_type": "markdown",
      "metadata": {},
      "source": [
        "# Preproccesing on CUDB"
      ]
    },
    {
      "cell_type": "code",
      "execution_count": null,
      "metadata": {},
      "outputs": [],
      "source": [
        "\n",
        "file_name_cudb=extract_file(\"cudb database\",\"database//cudb\")\n",
        "df_Cc1=to_dataframe(8,\"cudb\",file_name_cudb,1)\n",
        "df_Cc1.to_excel(\"cudb_cc1N.xlsx\")\n",
        "\n",
        "df_Cc2=to_dataframe(8,\"cudb\",file_name_cudb,2)\n",
        "df_Cc2.to_excel(\"cudb_cc1N.xlsx\")"
      ]
    },
    {
      "cell_type": "markdown",
      "metadata": {
        "id": "jpWVV-BMgSX-"
      },
      "source": [
        "# Data Statitic "
      ]
    },
    {
      "cell_type": "code",
      "execution_count": 9,
      "metadata": {
        "id": "VkaFLGOJgSX-"
      },
      "outputs": [
        {
          "name": "stdout",
          "output_type": "stream",
          "text": [
            "<class 'pandas.core.frame.DataFrame'>\n",
            "Int64Index: 97571 entries, 0 to 17534\n",
            "Data columns (total 26 columns):\n",
            " #   Column      Non-Null Count  Dtype  \n",
            "---  ------      --------------  -----  \n",
            " 0   Unnamed: 0  97571 non-null  int64  \n",
            " 1   label       97571 non-null  object \n",
            " 2   signal      97571 non-null  object \n",
            " 3   channel     97571 non-null  object \n",
            " 4   db          97571 non-null  object \n",
            " 5   fs          97571 non-null  int64  \n",
            " 6   RDAmpM      97571 non-null  float64\n",
            " 7   RDAmpSD     97571 non-null  float64\n",
            " 8   QRsa        97571 non-null  float64\n",
            " 9   QRaSD       97571 non-null  float64\n",
            " 10  S           97571 non-null  object \n",
            " 11  Q           97571 non-null  object \n",
            " 12  R           97571 non-null  object \n",
            " 13  mean_rr     94731 non-null  float64\n",
            " 14  std_rr      94731 non-null  float64\n",
            " 15  rmssd       93353 non-null  float64\n",
            " 16  sdnn        94731 non-null  float64\n",
            " 17  lf_power    97571 non-null  float64\n",
            " 18  hf_power    97571 non-null  float64\n",
            " 19  lfhf_ratio  96030 non-null  float64\n",
            " 20  pos_area    97571 non-null  float64\n",
            " 21  neg_area    97571 non-null  float64\n",
            " 22  vlf_power   97571 non-null  float64\n",
            " 23  ulf_power   97571 non-null  int64  \n",
            " 24  lfnu        96030 non-null  float64\n",
            " 25  hfnu        96030 non-null  float64\n",
            "dtypes: float64(16), int64(3), object(7)\n",
            "memory usage: 20.1+ MB\n"
          ]
        }
      ],
      "source": [
        "df.info()\n"
      ]
    },
    {
      "cell_type": "code",
      "execution_count": 10,
      "metadata": {
        "id": "UADyutWXgSX-"
      },
      "outputs": [],
      "source": [
        "df_stat=assess_NA(df)"
      ]
    },
    {
      "cell_type": "code",
      "execution_count": 10,
      "metadata": {},
      "outputs": [],
      "source": [
        "import pandas as pd\n",
        "\n",
        "def supprimer_lignes_na(df):\n",
        "    \"\"\"\n",
        "    Supprime les lignes du dataframe où il y a des valeurs manquantes (N/A).\n",
        "    \n",
        "    Args:\n",
        "        df (pandas.DataFrame): Le dataframe Pandas à nettoyer.\n",
        "    \n",
        "    Returns:\n",
        "        pandas.DataFrame: Le dataframe nettoyé.\n",
        "    \"\"\"\n",
        "    return df.dropna(axis=0, how='any')"
      ]
    },
    {
      "cell_type": "code",
      "execution_count": 11,
      "metadata": {},
      "outputs": [],
      "source": [
        "df=supprimer_lignes_na(df)"
      ]
    },
    {
      "cell_type": "code",
      "execution_count": null,
      "metadata": {},
      "outputs": [],
      "source": [
        "df.columns"
      ]
    },
    {
      "cell_type": "code",
      "execution_count": 11,
      "metadata": {
        "id": "U4fdXrmIgSX-"
      },
      "outputs": [
        {
          "name": "stdout",
          "output_type": "stream",
          "text": [
            "Empty DataFrame\n",
            "Columns: [Number of NA, Percent NA]\n",
            "Index: []\n"
          ]
        }
      ],
      "source": [
        "print(df_stat)"
      ]
    },
    {
      "cell_type": "code",
      "execution_count": 12,
      "metadata": {
        "id": "xMBztTUKgSX-"
      },
      "outputs": [
        {
          "name": "stdout",
          "output_type": "stream",
          "text": [
            "Unnamed: 0    85857\n",
            "label         85857\n",
            "signal        85857\n",
            "channel       85857\n",
            "db            85857\n",
            "fs            85857\n",
            "RDAmpM        85857\n",
            "RDAmpSD       85857\n",
            "QRsa          85857\n",
            "QRaSD         85857\n",
            "S             85857\n",
            "Q             85857\n",
            "R             85857\n",
            "mean_rr       85857\n",
            "std_rr        85857\n",
            "rmssd         85857\n",
            "sdnn          85857\n",
            "lf_power      85857\n",
            "hf_power      85857\n",
            "lfhf_ratio    85857\n",
            "pos_area      85857\n",
            "neg_area      85857\n",
            "vlf_power     85857\n",
            "ulf_power     85857\n",
            "lfnu          85857\n",
            "hfnu          85857\n",
            "dtype: int64\n"
          ]
        }
      ],
      "source": [
        "print(df[df[\"label\"] == \"NotVF\"].count())"
      ]
    },
    {
      "cell_type": "code",
      "execution_count": 13,
      "metadata": {
        "id": "yZudlPOMgSX_"
      },
      "outputs": [
        {
          "name": "stdout",
          "output_type": "stream",
          "text": [
            "Unnamed: 0    7462\n",
            "label         7462\n",
            "signal        7462\n",
            "channel       7462\n",
            "db            7462\n",
            "fs            7462\n",
            "RDAmpM        7462\n",
            "RDAmpSD       7462\n",
            "QRsa          7462\n",
            "QRaSD         7462\n",
            "S             7462\n",
            "Q             7462\n",
            "R             7462\n",
            "mean_rr       7462\n",
            "std_rr        7462\n",
            "rmssd         7462\n",
            "sdnn          7462\n",
            "lf_power      7462\n",
            "hf_power      7462\n",
            "lfhf_ratio    7462\n",
            "pos_area      7462\n",
            "neg_area      7462\n",
            "vlf_power     7462\n",
            "ulf_power     7462\n",
            "lfnu          7462\n",
            "hfnu          7462\n",
            "dtype: int64\n"
          ]
        }
      ],
      "source": [
        "print(df[df[\"label\"] == \"VF\"].count())"
      ]
    },
    {
      "cell_type": "code",
      "execution_count": null,
      "metadata": {
        "id": "C2idMdNVgSX_"
      },
      "outputs": [],
      "source": [
        "print(df[df[\"QRaSD\"] == 0.0].count())"
      ]
    },
    {
      "cell_type": "code",
      "execution_count": null,
      "metadata": {
        "id": "CXc_krB8gSX_"
      },
      "outputs": [],
      "source": [
        "print(df[df[\"QRsa\"] == 0].count())"
      ]
    },
    {
      "cell_type": "code",
      "execution_count": null,
      "metadata": {
        "id": "3e_hfxJmgSX_"
      },
      "outputs": [],
      "source": [
        "print(df[df[\"RDAmpM\"] == 0].count())"
      ]
    },
    {
      "cell_type": "code",
      "execution_count": null,
      "metadata": {
        "id": "Xn_a4_2CgSX_"
      },
      "outputs": [],
      "source": [
        "print(df[df[\"RDAmpSD\"] == 0].count())"
      ]
    },
    {
      "cell_type": "code",
      "execution_count": 14,
      "metadata": {},
      "outputs": [
        {
          "name": "stdout",
          "output_type": "stream",
          "text": [
            "Counter({'NotVF': 85857, 'VF': 7462})\n",
            "Counter({'NotVF': 85857, 'VF': 85857})\n"
          ]
        }
      ],
      "source": [
        "\n",
        "# define dataset\n",
        "X1=df[[\"QRaSD\",\"QRsa\",\"RDAmpM\",\"RDAmpSD\",'pos_area', 'neg_area']]\n",
        "y1=df[\"label\"]\n",
        "X,y=smooth(X1,y1)\n",
        "\n"
      ]
    },
    {
      "cell_type": "code",
      "execution_count": 16,
      "metadata": {},
      "outputs": [
        {
          "name": "stdout",
          "output_type": "stream",
          "text": [
            "171714\n"
          ]
        }
      ],
      "source": [
        "print(len(y))"
      ]
    },
    {
      "cell_type": "markdown",
      "metadata": {
        "id": "2-Dh1SYJgSYA"
      },
      "source": [
        "# Data_visualisation\n",
        "\n",
        "\n"
      ]
    },
    {
      "cell_type": "code",
      "execution_count": null,
      "metadata": {
        "id": "45F-YnQlgSYB"
      },
      "outputs": [],
      "source": [
        "\n",
        "\n",
        "fig = px.scatter(df, x=\"QRaSD\", y=\"QRsa\",color=\"label\")\n",
        "fig.show()"
      ]
    },
    {
      "cell_type": "code",
      "execution_count": null,
      "metadata": {
        "id": "h-iQEDJegSYB"
      },
      "outputs": [],
      "source": [
        "\n",
        "fig = px.scatter_3d(df, x=\"QRaSD\", y=\"QRsa\",z=\"RDAmpSD\",color=\"label\")\n",
        "fig.show()"
      ]
    },
    {
      "cell_type": "code",
      "execution_count": null,
      "metadata": {
        "id": "ZR2oNzYSgSYB"
      },
      "outputs": [],
      "source": [
        "fig = px.scatter(df, y=\"QRaSD\", x=\"RDAmpM\", color=\"label\")\n",
        "fig.show()"
      ]
    },
    {
      "cell_type": "code",
      "execution_count": null,
      "metadata": {},
      "outputs": [],
      "source": []
    },
    {
      "cell_type": "markdown",
      "metadata": {
        "id": "pDKtK2bAgSYB"
      },
      "source": [
        "# Smooth"
      ]
    },
    {
      "cell_type": "code",
      "execution_count": null,
      "metadata": {},
      "outputs": [],
      "source": [
        "df.columns"
      ]
    },
    {
      "cell_type": "markdown",
      "metadata": {
        "id": "LYvM5OxHgSYB"
      },
      "source": [
        "# Feature importance"
      ]
    },
    {
      "cell_type": "code",
      "execution_count": null,
      "metadata": {
        "id": "1bXxXoRKgSYB"
      },
      "outputs": [],
      "source": [
        "feature_importance(X,y)"
      ]
    },
    {
      "cell_type": "markdown",
      "metadata": {
        "id": "eDk6-YoagSYC"
      },
      "source": [
        "# Grid search and Cross validations and SVM"
      ]
    },
    {
      "attachments": {},
      "cell_type": "markdown",
      "metadata": {},
      "source": [
        "## QRS comples shape features :"
      ]
    },
    {
      "cell_type": "code",
      "execution_count": null,
      "metadata": {
        "id": "d-eq_XuvgSYC"
      },
      "outputs": [],
      "source": [
        "\n",
        "gamma=[10]\n",
        "C=[100]\n",
        "SVM_Grid_search(gamma,C,X,y)\n",
        "\n",
        "\n",
        "\n",
        "\n"
      ]
    },
    {
      "cell_type": "code",
      "execution_count": null,
      "metadata": {},
      "outputs": [],
      "source": [
        "SVM_Cross_val(gamma,C,X,y)"
      ]
    },
    {
      "cell_type": "code",
      "execution_count": null,
      "metadata": {},
      "outputs": [],
      "source": [
        "\n",
        "gamma = [5,8,10,15,20]\n",
        "C = [100]\n",
        "SVM_Grid_search(gamma,C,X,y)"
      ]
    },
    {
      "cell_type": "code",
      "execution_count": null,
      "metadata": {},
      "outputs": [],
      "source": [
        "gamma = [0.01, 0.1, 1,10]\n",
        "C = [0.1, 1, 10, 100]\n",
        "SVM_Grid_search(gamma,C,X,y)"
      ]
    },
    {
      "cell_type": "code",
      "execution_count": null,
      "metadata": {},
      "outputs": [],
      "source": [
        "\n",
        "gamma = [100,200]\n",
        "C = [100,1000]\n",
        "SVM_Grid_search(gamma,C,X,y)"
      ]
    },
    {
      "cell_type": "code",
      "execution_count": 17,
      "metadata": {},
      "outputs": [
        {
          "name": "stdout",
          "output_type": "stream",
          "text": [
            "              precision    recall  f1-score   support\n",
            "\n",
            "          VF       0.96      0.49      0.65     25794\n",
            "       NotVF       0.66      0.98      0.78     25721\n",
            "\n",
            "    accuracy                           0.73     51515\n",
            "   macro avg       0.81      0.73      0.71     51515\n",
            "weighted avg       0.81      0.73      0.71     51515\n",
            "\n",
            "Accuracy of SVM for the given dataset: 0.732000388236436\n"
          ]
        }
      ],
      "source": [
        "\n",
        "gammas = [0.01, 0.1, 1,10,100]\n",
        "Cs = [0.1, 1, 10, 100,1000]\n",
        "\n",
        "output_path = \"./All_shape_feature\"\n",
        "SVM_Grid_search(gammas, Cs, X, y, output_path)"
      ]
    },
    {
      "attachments": {},
      "cell_type": "markdown",
      "metadata": {},
      "source": [
        "## HRV Time domain feature"
      ]
    },
    {
      "cell_type": "code",
      "execution_count": 7,
      "metadata": {},
      "outputs": [
        {
          "ename": "NameError",
          "evalue": "name 'smooth' is not defined",
          "output_type": "error",
          "traceback": [
            "\u001b[0;31m---------------------------------------------------------------------------\u001b[0m",
            "\u001b[0;31mNameError\u001b[0m                                 Traceback (most recent call last)",
            "Cell \u001b[0;32mIn[7], line 4\u001b[0m\n\u001b[1;32m      2\u001b[0m X\u001b[39m=\u001b[39mdf[[\u001b[39m'\u001b[39m\u001b[39mmean_rr\u001b[39m\u001b[39m'\u001b[39m, \u001b[39m'\u001b[39m\u001b[39mstd_rr\u001b[39m\u001b[39m'\u001b[39m, \u001b[39m'\u001b[39m\u001b[39mrmssd\u001b[39m\u001b[39m'\u001b[39m,\u001b[39m'\u001b[39m\u001b[39msdnn\u001b[39m\u001b[39m'\u001b[39m,]]\n\u001b[1;32m      3\u001b[0m y\u001b[39m=\u001b[39mdf[\u001b[39m\"\u001b[39m\u001b[39mlabel\u001b[39m\u001b[39m\"\u001b[39m]\n\u001b[0;32m----> 4\u001b[0m X,y\u001b[39m=\u001b[39msmooth(X,y)\n",
            "\u001b[0;31mNameError\u001b[0m: name 'smooth' is not defined"
          ]
        }
      ],
      "source": [
        "\n",
        "# define dataset\n",
        "X=df[['mean_rr', 'std_rr', 'rmssd','sdnn',]]\n",
        "y=df[\"label\"]\n",
        "X,y=smooth(X,y)"
      ]
    },
    {
      "cell_type": "code",
      "execution_count": null,
      "metadata": {},
      "outputs": [],
      "source": [
        "df.columns"
      ]
    },
    {
      "cell_type": "code",
      "execution_count": null,
      "metadata": {},
      "outputs": [],
      "source": [
        "gamma=[1]\n",
        "C=[10]\n",
        "SVM_Grid_search(gamma,C,X,y)"
      ]
    },
    {
      "cell_type": "code",
      "execution_count": null,
      "metadata": {},
      "outputs": [],
      "source": [
        "gamma=[5]\n",
        "C=[100]\n",
        "SVM_Grid_search(gamma,C,X,y)"
      ]
    },
    {
      "cell_type": "code",
      "execution_count": null,
      "metadata": {},
      "outputs": [],
      "source": [
        "df.columns"
      ]
    },
    {
      "attachments": {},
      "cell_type": "markdown",
      "metadata": {},
      "source": [
        "## HRV Frequency domain feature"
      ]
    },
    {
      "attachments": {},
      "cell_type": "markdown",
      "metadata": {},
      "source": [
        "# intervall de confiance :"
      ]
    },
    {
      "cell_type": "code",
      "execution_count": null,
      "metadata": {},
      "outputs": [],
      "source": [
        "\n",
        "# define dataset\n",
        "X=df[['lf_power', 'hf_power','lfhf_ratio','vlf_power', 'ulf_power', 'lfnu', 'hfnu']]\n",
        "y=df[\"label\"]\n",
        "X,y=smooth(X,y)"
      ]
    },
    {
      "cell_type": "code",
      "execution_count": null,
      "metadata": {},
      "outputs": [],
      "source": [
        "gamma = [0.01, 0.1, 1,10]\n",
        "C = [0.1, 1, 10, 100]\n",
        "SVM_Grid_search(gamma,C,X,y)"
      ]
    },
    {
      "cell_type": "code",
      "execution_count": null,
      "metadata": {},
      "outputs": [],
      "source": []
    },
    {
      "cell_type": "markdown",
      "metadata": {
        "id": "3jGGhc5FgSYF"
      },
      "source": [
        "# Grid search on Neural networks "
      ]
    },
    {
      "cell_type": "code",
      "execution_count": null,
      "metadata": {},
      "outputs": [],
      "source": [
        "# define dataset\n",
        "X=df[[\"QRaSD\",\"QRsa\",\"RDAmpM\",\"RDAmpSD\",]]\n",
        "y=df[\"label\"]\n",
        "X,y=smooth(X,y)\n"
      ]
    },
    {
      "cell_type": "code",
      "execution_count": null,
      "metadata": {
        "id": "484e_abVgSYF"
      },
      "outputs": [],
      "source": [
        "ANN_grid_search(X,y)"
      ]
    }
  ],
  "metadata": {
    "colab": {
      "provenance": []
    },
    "interpreter": {
      "hash": "fb9564f215b4a5b59b1e35e1630d87ebbc66452672341229fd959e670800eda6"
    },
    "kernelspec": {
      "display_name": "Python 3.8.5 ('base')",
      "language": "python",
      "name": "python3"
    },
    "language_info": {
      "codemirror_mode": {
        "name": "ipython",
        "version": 3
      },
      "file_extension": ".py",
      "mimetype": "text/x-python",
      "name": "python",
      "nbconvert_exporter": "python",
      "pygments_lexer": "ipython3",
      "version": "3.10.9"
    }
  },
  "nbformat": 4,
  "nbformat_minor": 0
}
